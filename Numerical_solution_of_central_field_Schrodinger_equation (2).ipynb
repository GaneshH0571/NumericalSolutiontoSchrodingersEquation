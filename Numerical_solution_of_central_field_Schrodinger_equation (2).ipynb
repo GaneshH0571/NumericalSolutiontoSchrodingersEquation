{
  "cells": [
    {
      "cell_type": "code",
      "execution_count": null,
      "metadata": {
        "id": "9F3QP_9uuR0D"
      },
      "outputs": [],
      "source": [
        "import math\n",
        "import numpy as np\n",
        "import matplotlib.pyplot as plt\n",
        "from math import sqrt\n",
        "import random"
      ]
    },
    {
      "cell_type": "code",
      "source": [
        "#GridConstants-------------------------------------------\n",
        "t=[]\n",
        "r=[]\n",
        "dr_dt=[]\n",
        "h=0.02275\n",
        "r0=0.0005\n",
        "#WavefunctionDefiningConstants---------------------------\n",
        "N=1\n",
        "l=0\n",
        "assert l<=N-1\n",
        "Z = 11\n",
        "E= -10\n",
        "assert E<0\n",
        "#PotentialConstants--------------------------------------\n",
        "a_=0.2683\n",
        "b_=0.4072\n",
        "num_e=1\n",
        "L=Z-num_e+1\n",
        "#AdamsConstants------------------------------------------\n",
        "k=3\n",
        "#OutwardConstants----------------------------------------\n",
        "#InwardConstants-----------------------------------------\n",
        "InwardTerms=10\n",
        "#Array constants-----------------------------------------\n",
        "a=[[1,1],[-1,8,5],[1,-5,19,9],[-19,106,-264,646,251],[27,-173,482,-798,1427,475]]\n",
        "D=[2,12,24,720,1440]\n",
        "c_=[[1],[9,28,23],[475,1902,1104,1586,1413],[36799,176648,54851,177984,89437,119585]]\n",
        "d_=[2,24,1440,120960]\n",
        "m=[[-11,18,-9,2],[-2,-3,6,-1],[1,-6,3,2],[-2,9,-18,11]]\n",
        "#Energy scaling factors----------------------------------\n",
        "scale_down=1.1\n",
        "scale_up=0.9\n",
        "#Initializing mij for outward integration----------------\n",
        "for i in range(4):\n",
        "  for j in range(4):\n",
        "    m[i][j]/=6*h\n",
        "mij=[[] for s in range(2*k)]\n",
        "for i in range(2*k):\n",
        "  for j in range(2*k):\n",
        "    mij[i].append(0)"
      ],
      "metadata": {
        "id": "EeH5i4-VXjew"
      },
      "execution_count": null,
      "outputs": []
    },
    {
      "cell_type": "code",
      "source": [
        "#grid points\n",
        "for i in range (1000):\n",
        "  t.append((i+1)*h) \n",
        "  r.append(r0*(math.exp(t[i])-1))\n",
        "  dr_dt.append(r0*(math.exp(t[i])))"
      ],
      "metadata": {
        "id": "1X2mPMZ4Yc-H"
      },
      "execution_count": null,
      "outputs": []
    },
    {
      "cell_type": "code",
      "source": [
        "#ACTUAL WAVEFUNCTIONS\n",
        "r = np.array(r)\n",
        "R=np.zeros(500)\n",
        "Qe=np.zeros(500)\n",
        "p=2*2*np.array(r)/4\n",
        "orbital={\n",
        "    0 : 's',\n",
        "    1 : 'p',\n",
        "    2 : 'd',\n",
        "    3 : 'f'\n",
        "}\n",
        "orbitall={\n",
        "    's' : 0,\n",
        "    'p' : 1,\n",
        "    'd' : 2,\n",
        "    'f': 3\n",
        "}\n",
        "wavefunctions={\n",
        "    '1sP' : (2*((Z)**(3/2))*r*np.exp(-Z*r)),\n",
        "    '1sQ' : (-2*((Z)**(3/2))*np.exp(-Z*r)*(Z*r-1)),\n",
        "    '2sP' : (1/np.sqrt(2))*(Z**(3/2))*r*np.exp(-Z*r/2)*(1-Z*r/2),\n",
        "    '2sQ' : ((1/2**(5/2))*(Z**(3/2))*np.exp(-Z*r/2)*((Z*Z*r*r)-(6*Z*r)+4)),\n",
        "    '2pP' : ((1/2*sqrt(6))*((Z)**(5/2))*(r**2)*np.exp(-Z*r/2)),\n",
        "    '2pQ' : ((-1/4*sqrt(6))*((Z)**(5/2))*r*np.exp(-Z*r/2)*(Z*r-4)),\n",
        "    '3sP' : ((2/3*sqrt(3))*(Z**(3/2))*r*np.exp(-Z*r/3)*(1-(2/3*Z*r)+(2/27*(Z**2)*(r**2)))),\n",
        "    '3sQ' : ((-2/3**(11/2))*(Z**(3/2))*np.exp(-Z*r/3)*((2*(Z**3)*(r**3))-(36*(Z**2)*(r**2))+135*Z*r-81)),\n",
        "    '3pP' : ((8/27*sqrt(6))*((Z)**(5/2))*(r**2)*np.exp(-Z*r/3)*(1-Z*r/6)),\n",
        "    '3pQ' : ((8/81*(6**(3/2)))*((Z)**(5/2))*r*np.exp(-Z*r/3)*((Z*Z*r*r)-15*Z*r+36)),\n",
        "    '3dP' : ((4/81*sqrt(30))*((Z)**(7/2))*(r**3)*np.exp(-Z*r/3)),\n",
        "    '3dQ' : ((-4/243*sqrt(30))*((Z)**(7/2))*(r**2)*(np.exp(-Z*r/3))*(Z*r-9)),\n",
        "    '4pP' : (1/(32*np.sqrt(15))*p*(20-10*p+p**2)*(2**(3/2))*(np.exp(-p/2)))*r,\n",
        "    '4pQ' : (1/(32*np.sqrt(15))*(2**(3/2))*-0.5*(np.exp(-p/2)*p*(-80+(80*p)+(-18*p*p)+(p**3))))\n",
        "}"
      ],
      "metadata": {
        "id": "dYQXz5LXayIu"
      },
      "execution_count": null,
      "outputs": []
    },
    {
      "cell_type": "code",
      "source": [
        "def Empty(p,q,P,Q,y,f,V,ak,bk,P_1,Q_1,y_,f_):\n",
        "  p.clear()\n",
        "  q.clear()\n",
        "  P.clear()\n",
        "  Q.clear()\n",
        "  y.clear()\n",
        "  f.clear()\n",
        "  V.clear()\n",
        "  ak.clear()\n",
        "  bk.clear()\n",
        "  P_1.clear()\n",
        "  Q_1.clear()\n",
        "  y_.clear()\n",
        "  f_.clear()\n",
        "  return None"
      ],
      "metadata": {
        "id": "73fP73A_vnyX"
      },
      "execution_count": null,
      "outputs": []
    },
    {
      "cell_type": "code",
      "source": [
        "def CoeffGenerator(E,V,n,l,Z,b,c,c1,d,io):\n",
        "  V.clear()\n",
        "  for i in range (500):\n",
        "    if(io==\"O\"):\n",
        "      # V.append(-Z/r[i])\n",
        "      V.append((-Z/r[i])+(Z-L)*r[i]/(r[i]**2+a_**2))\n",
        "      # V.append((-Z/r[i])+((Z-L)*(1-np.exp(-r[i]/b_))/r[i]))\n",
        "    elif(io==\"I\"):\n",
        "      V.append(-L/r[i])\n",
        "    c.append(b[i]*-2*(E-V[i]-(((l)*(l+1))/(2*(r[i]**2)))))\n",
        "    c1.append(b[i]*-2*(E-V[i]))\n",
        "    d.append(-2*b[i]*(l+1)/r[i])"
      ],
      "metadata": {
        "id": "Kmj69mlaXzo5"
      },
      "execution_count": null,
      "outputs": []
    },
    {
      "cell_type": "code",
      "execution_count": null,
      "metadata": {
        "id": "vJjCgH-BZH8w"
      },
      "outputs": [],
      "source": [
        "def Equation(a,b,c):\n",
        "    e = b ** 2 - 4 * a * c\n",
        "    final=[]\n",
        "    if e > 0:\n",
        "        x1 = (((-b) + sqrt(e)) / (2 * a))\n",
        "        x2 = (((-b) - sqrt(e)) / (2 * a))\n",
        "        final.append(x1)\n",
        "        final.append(x2)\n",
        "    elif e == 0:\n",
        "        x = (-b) / 2 * a\n",
        "        final.append(x)\n",
        "    else:\n",
        "        final.append(463)\n",
        "    return final"
      ]
    },
    {
      "cell_type": "code",
      "execution_count": null,
      "metadata": {
        "id": "aahBsSVJIYzz"
      },
      "outputs": [],
      "source": [
        "def Adam(f,y,n,l,k,E,Z,a,io):\n",
        "  s=io\n",
        "  b=dr_dt.copy()\n",
        "  c1=[]\n",
        "  c=[]\n",
        "  d=[]\n",
        "  V=[]\n",
        "  CoeffGenerator(E,V,500,l,Z,b,c,c1,d,s)\n",
        "  y_n=[0,0]\n",
        "  for i in range (1,k+1):\n",
        "      y_n[0]+=(a[k-1][i-1]*f[n-k+i][0])\n",
        "      y_n[1]+=(a[k-1][i-1]*f[n-k+i][1])\n",
        "  if(io==\"O\"):\n",
        "    for j in range(2):\n",
        "      y_n[j]*=(+h/(D[k-1]))\n",
        "    y_n[0]+=y[-1][0]\n",
        "    y_n[1]+=y[-1][1]\n",
        "    lamda=(h/D[k-1])*a[k-1][k]\n",
        "    M_inv=[[1,lamda*b[n+1]],[lamda*c[n+1],1]]\n",
        "    for i in range(2):\n",
        "      for j in range(2):\n",
        "        M_inv[i][j]*=(1/(1-((lamda**2)*b[n+1]*c[n+1])))\n",
        "    y_n=np.matmul(M_inv,y_n)\n",
        "    y.append(y_n)\n",
        "    f.append([b[n+1]*y_n[1],((c1[n+1]+(b[n+1]*((l*(l+1))/(r[n+1]**2))))*y_n[0])])\n",
        "  elif(io==\"I\"):\n",
        "    for j in range(2):\n",
        "      y_n[j]*=(-h/(D[k-1]))\n",
        "    y_n[0]+=y[-1][0]\n",
        "    y_n[1]+=y[-1][1]\n",
        "    lamda=(-h/D[k-1])*a[k-1][k]\n",
        "    M_inv=[[1,lamda*b[499-n-1]],[lamda*c[499-n-1],1]]\n",
        "    for i in range(2):\n",
        "      for j in range(2):\n",
        "        M_inv[i][j]*=(1/(1-((lamda**2)*b[499-n-1]*c[499-n-1])))\n",
        "    y_n=np.matmul(M_inv,y_n)\n",
        "    y.append(y_n)\n",
        "    f.append([b[499-n-1]*y_n[1],c[499-n-1]*y_n[0]])"
      ]
    },
    {
      "cell_type": "code",
      "source": [
        "def scaling_factor(y,y_):\n",
        "    ctp=CTPnew(E,l,Z)\n",
        "    slope =(y[-1][0]-y[-2][0])/(r[ctp]-r[ctp-1])\n",
        "    y_target=y[-1][0] + slope*(r[ctp+1]-r[ctp])\n",
        "    factor = y_target/y_[-1][0]\n",
        "    return factor"
      ],
      "metadata": {
        "id": "t5G0qzizC0Mh"
      },
      "execution_count": null,
      "outputs": []
    },
    {
      "cell_type": "code",
      "execution_count": null,
      "metadata": {
        "id": "dA5f_0eEEcs8"
      },
      "outputs": [],
      "source": [
        "def OutwardIntegration(f,y,p,q,P,Q,n,k,l,Z,E,m,mij,io=\"O\"):#here n in number of grid points\n",
        "    b=dr_dt.copy()\n",
        "    V=[] \n",
        "    c=[]\n",
        "    c1=[]\n",
        "    d=[]\n",
        "    CoeffGenerator(E,V,n,l,Z,b,c,c1,d,\"O\")\n",
        "    p.append(1)\n",
        "    q.append(-Z/(l+1))\n",
        "    #adding elements which are corresponding to p's on the rhs\n",
        "    for i in range (k):\n",
        "      for j in range (2*k):\n",
        "        if(j%2==0):\n",
        "          mij[2*i][j]=m[i+1][int(j/2)+1]\n",
        "        else:\n",
        "          mij[2*i][j]=0\n",
        "        \n",
        "    #adding elements which are corresponding to q's on the rhs\n",
        "    for i in range (k):\n",
        "      for j in range (2*k):\n",
        "        if(j%2!=0):\n",
        "          mij[2*i+1][j]=m[i+1][int(j/2)+1]\n",
        "        else:\n",
        "          mij[2*i+1][j]=0\n",
        "      \n",
        "    #adding terms associated with b[i],c1[i],d[i]\n",
        "    for i in range(2*k):\n",
        "      if(i%2==0):\n",
        "        \n",
        "        mij[i][i+1]-=b[int(i/2) + 1]\n",
        "      if(i%2!=0):\n",
        "        mij[i][i-1]-=c1[int(i/2) + 1]\n",
        "        mij[i][i]-=d[int(i/2) + 1]\n",
        "    rhs=[]\n",
        "    for i in range(k):\n",
        "      rhs.append(-m[i+1][0]*p[0])\n",
        "      rhs.append(-m[i+1][0]*q[0])\n",
        "    soln=[0 for t in range(2*k)]\n",
        "    mij_inv=np.linalg.inv(mij)  \n",
        "    soln=np.dot(mij_inv,rhs)\n",
        "    for i in range(2*k):\n",
        "      if(i%2==0):\n",
        "        p.append(soln[i])\n",
        "      else:\n",
        "        q.append(soln[i])\n",
        "    for i in range(k+1):\n",
        "      P.append((r[i]**(l+1))*p[i])\n",
        "      Q.append((r[i]**(l+1))*(q[i]+(l+1)*(p[i]/r[i])))\n",
        "    for i in range(k+1):\n",
        "      y.append([P[i],Q[i]])\n",
        "    for i in range(k+1):\n",
        "      f.append([b[i]*Q[i],(c1[i]+b[i]*((l*(l+1))/(r[i]**2)))*P[i]])\n",
        "    x=k\n",
        "    while(x<CTPnew(E,l,Z)):\n",
        "      Adam(f,y,x,l,k,E,Z,a,\"O\")\n",
        "      x+=1\n",
        "    return [y,f]"
      ]
    },
    {
      "cell_type": "code",
      "execution_count": null,
      "metadata": {
        "id": "Wt6JYSiPHTJt"
      },
      "outputs": [],
      "source": [
        "def InwardIntegration(f_,y_,P_1,Q_1,n,k,l,Z,E,L,ak,bk,io=\"I\"):\n",
        "  P_1.clear()\n",
        "  Q_1.clear()\n",
        "  ak.clear()\n",
        "  bk.clear()\n",
        "  b=dr_dt.copy()\n",
        "  V=[]\n",
        "  c=[]\n",
        "  c1=[]\n",
        "  d=[]\n",
        "  CoeffGenerator(E,V,n,l,Z,b,c,c1,d,\"I\") \n",
        "  lamda_1=math.sqrt(-2*E)\n",
        "  sigma=L/lamda_1\n",
        "  ak.append(1)\n",
        "  bk.append(-lamda_1)\n",
        "  for i in range(1,InwardTerms):\n",
        "    ak.append((((l*(l+1))-(sigma-i)*(sigma-i+1))/(2*i*lamda_1))*ak[i-1])\n",
        "    bk.append(((-1*(l*(l+1))+(sigma+i)*(sigma-i+1))/(2*i))*ak[i-1])\n",
        "  for i in range (k+1):\n",
        "    temp1=0\n",
        "    temp2=0\n",
        "    for j in range(InwardTerms):\n",
        "      temp1+=ak[j]/(r[499-i]**j)\n",
        "      temp2+=bk[j]/(r[499-i]**j)\n",
        "    P_1.append((r[499-i]**sigma)*(math.e**(-lamda_1*r[499-i]))*temp1)\n",
        "    Q_1.append((r[499-i]**sigma)*(math.e**(-lamda_1*r[499-i]))*temp2)\n",
        "  for i in range(k+1):\n",
        "    y_.append([P_1[i],Q_1[i]])\n",
        "  for i in range(k+1):\n",
        "    f_.append([b[499-i]*Q_1[i],c[499-i]*P_1[i]])\n",
        "  x=k\n",
        "  while (x<499-CTPnew(E,l,Z)-1):\n",
        "    Adam(f_,y_,x,l,k,E,Z,a,\"I\")\n",
        "    x+=1\n",
        "  return [y_,f_]"
      ]
    },
    {
      "cell_type": "code",
      "execution_count": null,
      "metadata": {
        "id": "AP6rjWNjpRZY"
      },
      "outputs": [],
      "source": [
        "def NormalizationConstant(f,k,c,d,m1,h):#here the k value is different from the one used in OutwardIntegration , and this can take only odd values\n",
        "  sum = 0\n",
        "  for j in range(k):\n",
        "    sum+=(c_[int((k-1)/2)][j]/d_[int((k-1)/2)])*h*(f[j]+f[m1-j])\n",
        "  w=k\n",
        "  while(w<=m1-k):\n",
        "    sum+=f[w]\n",
        "    w+=1\n",
        "  return sum"
      ]
    },
    {
      "cell_type": "code",
      "execution_count": null,
      "metadata": {
        "id": "5bEcuEGUYUaq"
      },
      "outputs": [],
      "source": [
        "def CTPnew(ECTP,l,Z):\n",
        "    ang_mom=math.sqrt((l+1)*l)\n",
        "    list=Equation(2*ECTP,2*Z,-1*ang_mom*ang_mom)\n",
        "    u=list[0]\n",
        "    for i in list:\n",
        "      if i>u:\n",
        "        u=i\n",
        "    min=0\n",
        "    for i in range(500) :\n",
        "      if(abs(u-r[i])<=abs(u-r[min])):\n",
        "        min=i\n",
        "    if min>=499:\n",
        "      min=498\n",
        "    return min"
      ]
    },
    {
      "cell_type": "code",
      "execution_count": null,
      "metadata": {
        "id": "yLoBaOTmfizE"
      },
      "outputs": [],
      "source": [
        "def mmcounter(start,stop,f):\n",
        "  count=0\n",
        "  info=[[]]\n",
        "  for i in range(start,stop):\n",
        "    if(i!=start & i!=stop):\n",
        "      if (f[i-1][0]>f[i][0] and f[i+1][0]>f[i][0]) or (f[i-1][0]<f[i][0] and f[i+1][0]<f[i][0]):\n",
        "        count+=1\n",
        "        info[0].append(i)\n",
        "  return info"
      ]
    },
    {
      "cell_type": "code",
      "execution_count": null,
      "metadata": {
        "id": "B59AR_zcQO4E"
      },
      "outputs": [],
      "source": [
        "def Combinesoln(y,y_,V,E,j):\n",
        "  combined=[]\n",
        "  t=-1\n",
        "  for i in range(0,CTPnew(E,l,Z)+1):\n",
        "    combined.append(y[i][j])\n",
        "  for i in range(CTPnew(E,l,Z)+1,500):\n",
        "    combined.append(y_[t][j])\n",
        "    t=t-1\n",
        "  return combined"
      ]
    },
    {
      "cell_type": "code",
      "execution_count": null,
      "metadata": {
        "id": "o8UmgOAVjV1J"
      },
      "outputs": [],
      "source": [
        "def NodeCounter(ECTP,l,Z,f):\n",
        "  n=CTPnew(ECTP,l,Z)\n",
        "  count=0\n",
        "  for i in range(n):\n",
        "    if(i!=0  and i!=n-1):\n",
        "      if((f[i-1]>0 and f[i]<=0 )or(f[i] >=0 and f[i-1]<0)):\n",
        "        count+=1\n",
        "  return count"
      ]
    },
    {
      "cell_type": "code",
      "execution_count": null,
      "metadata": {
        "id": "NOqSF3hJq6vu"
      },
      "outputs": [],
      "source": [
        "def NodeCorrection(f,y,n,N,l,k,E,V,Z,a,p,q,P,Q,m,mij,f_,y_,P_1,Q_1,ak,bk):#here N refers to the principal quantum number\n",
        "  OutwardIntegration(f,y,p,q,P,Q,n,k,l,Z,E,m,mij)\n",
        "  InwardIntegration(f_,y_,P_1,Q_1,n,k,l,Z,E,L,ak,bk)\n",
        "  scale_factor = scaling_factor(y,y_)\n",
        "  y_ = list(scale_factor * np.array(y_))\n",
        "  f_ = list(scale_factor * np.array(f_))\n",
        "  y_final=Combinesoln(y,y_,V,E,0) \n",
        "  f_final=Combinesoln(y,y_,V,E,1) \n",
        "  end = 400\n",
        "  plt.plot(r[0:end],y_final[0:end])\n",
        "  plt.title('P before Node correction starts')\n",
        "  plt.show()\n",
        "  plt.plot(r[0:end],f_final[0:end])\n",
        "  plt.title('Q before Node correction starts')\n",
        "  plt.show()\n",
        "  iter=0\n",
        "  print(\"Number of nodes initially is : \",NodeCounter(E,l,Z,y_final))\n",
        "  while(NodeCounter(E,l,Z,y_final)!=N-l-1):\n",
        "    txt=\"iter number :{:<4}|Energy is : {:.5f}|Nodes: {}\"\n",
        "    print(txt.format(iter,E,NodeCounter(E,l,Z,y_final)))\n",
        "    iter+=1\n",
        "    if(NodeCounter(E,l,Z,y_final)>N-l-1):\n",
        "      E*=scale_down\n",
        "    else:\n",
        "      E*=scale_up\n",
        "    Empty(p,q,P,Q,y,f,V,ak,bk,P_1,Q_1,y_,f_)\n",
        "    y_final.clear()\n",
        "    f_final.clear()\n",
        "    OutwardIntegration(f,y,p,q,P,Q,n,k,l,Z,E,m,mij)\n",
        "    InwardIntegration(f_,y_,P_1,Q_1,n,k,l,Z,E,L,ak,bk)\n",
        "    scale_factor = scaling_factor(y,y_)\n",
        "    y_ = list(scale_factor * np.array(y_))\n",
        "    f_ = list(scale_factor * np.array(f_))\n",
        "    y_final=Combinesoln(y,y_,V,E,0)\n",
        "    f_final=Combinesoln(y,y_,V,E,1)\n",
        "  return [y,y_,f,f_,E]"
      ]
    },
    {
      "cell_type": "code",
      "execution_count": null,
      "metadata": {
        "id": "Vjc0tXrGW9GD"
      },
      "outputs": [],
      "source": [
        "def DerivativeCorrection(f,y,n,N,l,k,E,V,L,Z,a,p,q,P,Q,m,mij,f_,y_,P_1,Q_1,ak,bk):\n",
        "  Eu=E\n",
        "  El=E\n",
        "  Ed=E\n",
        "  y_final=Combinesoln(y,y_,V,E,0)\n",
        "  f_final=Combinesoln(y,y_,V,E,1)\n",
        "  fd=f.copy()\n",
        "  yd=y.copy()\n",
        "  pd=p.copy()\n",
        "  qd=q.copy()\n",
        "  Pd=P.copy()\n",
        "  Qd=Q.copy()\n",
        "  f_d=f_.copy()\n",
        "  y_d=y_.copy()\n",
        "  P_1d=P_1.copy()\n",
        "  Q_1d=Q_1.copy()\n",
        "  akd=ak.copy()\n",
        "  bkd=bk.copy()\n",
        "  y_final1=Combinesoln(yd,y_d,V,Eu,0)\n",
        "  Etemp=Eu\n",
        "  while(NodeCounter(Eu,l,Z,y_final1)<=N-l-1):\n",
        "    Empty(pd,qd,Pd,Qd,yd,fd,V,akd,bkd,P_1d,Q_1d,y_d,f_d)\n",
        "    y_final1.clear()\n",
        "    Etemp=Eu\n",
        "    Eu*=scale_up\n",
        "    OutwardIntegration(fd,yd,pd,qd,Pd,Qd,n,k,l,Z,Eu,m,mij)\n",
        "    InwardIntegration(f_d,y_d,P_1d,Q_1d,n,k,l,Z,Eu,L,akd,bkd)\n",
        "    scale_factor = scaling_factor(yd,y_d)\n",
        "    y_d = list(scale_factor * np.array(y_d))\n",
        "    f_d = list(scale_factor * np.array(f_d))\n",
        "    y_final1=Combinesoln(yd,y_d,V,Eu,0)\n",
        "  lmfao=[Etemp,Eu]\n",
        "  node=[]\n",
        "  for i in range(2):\n",
        "    Empty(pd,qd,Pd,Qd,yd,fd,V,akd,bkd,P_1d,Q_1d,y_d,f_d)\n",
        "    y_final1.clear()\n",
        "    OutwardIntegration(fd,yd,pd,qd,Pd,Qd,n,k,l,Z,lmfao[i],m,mij)\n",
        "    InwardIntegration(f_d,y_d,P_1d,Q_1d,n,k,l,Z,lmfao[i],L,akd,bkd)\n",
        "    scale_factor = scaling_factor(yd,y_d)\n",
        "    y_d = list(scale_factor * np.array(y_d))\n",
        "    f_d = list(scale_factor * np.array(f_d))\n",
        "    y_final1=Combinesoln(yd,y_d,V,lmfao[i],0)\n",
        "    node.append(NodeCounter(lmfao[i],l,Z,y_final1))\n",
        "  if (node[0]<node[1]):\n",
        "    Eu=Etemp\n",
        "  fd=f.copy()\n",
        "  yd=y.copy()\n",
        "  pd=p.copy()\n",
        "  qd=q.copy()\n",
        "  Pd=P.copy()\n",
        "  Qd=Q.copy()\n",
        "  f_d=f_.copy()\n",
        "  y_d=y_.copy()\n",
        "  P_1d=P_1.copy()\n",
        "  Q_1d=Q_1.copy()\n",
        "  akd=ak.copy()\n",
        "  bkd=bk.copy()\n",
        "  y_final2=Combinesoln(yd,y_d,V,El,0)\n",
        "  txt=\"Upper limit for energy is : {}\".format(Eu)\n",
        "  print(txt)\n",
        "  Etemp1=El\n",
        "  if(NodeCounter(El,l,Z,y_final2)==0):\n",
        "    El=-1000\n",
        "  else:\n",
        "    while(NodeCounter(El,l,Z,y_final2)>=N-l-1):\n",
        "      Empty(pd,qd,Pd,Qd,yd,fd,V,akd,bkd,P_1d,Q_1d,y_d,f_d)\n",
        "      y_final2.clear()\n",
        "      Etemp1=El\n",
        "      El*=scale_down\n",
        "      OutwardIntegration(fd,yd,pd,qd,Pd,Qd,n,k,l,Z,El,m,mij)\n",
        "      InwardIntegration(f_d,y_d,P_1d,Q_1d,n,k,l,Z,El,L,akd,bkd)\n",
        "      scale_factor = scaling_factor(yd,y_d)\n",
        "      y_d = list(scale_factor * np.array(y_d))\n",
        "      f_d = list(scale_factor * np.array(f_d))\n",
        "      y_final2=Combinesoln(yd,y_d,V,El,0)\n",
        "    lmfao1=[Etemp1,El]\n",
        "    node1=[]\n",
        "    for i in range(2):\n",
        "      Empty(pd,qd,Pd,Qd,yd,fd,V,akd,bkd,P_1d,Q_1d,y_d,f_d)\n",
        "      y_final2.clear()\n",
        "      OutwardIntegration(fd,yd,pd,qd,Pd,Qd,n,k,l,Z,lmfao1[i],m,mij)\n",
        "      InwardIntegration(f_d,y_d,P_1d,Q_1d,n,k,l,Z,lmfao1[i],L,akd,bkd)\n",
        "      scale_factor = scaling_factor(yd,y_d)\n",
        "      y_d = list(scale_factor * np.array(y_d))\n",
        "      f_d = list(scale_factor * np.array(f_d))\n",
        "      y_final2=Combinesoln(yd,y_d,V,lmfao1[i],0)\n",
        "      node1.append(NodeCounter(lmfao1[i],l,Z,y_final2))\n",
        "    if(node1[0]>node1[1]):\n",
        "      El=Etemp1\n",
        "  txt=\"Lower limit for energy is : {}\".format(El)\n",
        "  print(txt)\n",
        "  q1_minus=f_final[CTPnew(E,l,Z)]\n",
        "  q1_plus=f_final[CTPnew(E,l,Z)+1]\n",
        "  iter=1\n",
        "  maxf=max(f_final)\n",
        "  minf=min(f_final)\n",
        "  percent=0.1\n",
        "  target=percent*abs(maxf-minf)/100\n",
        "  txt=\"Target Discontinuity is : {:.5f}\"\n",
        "  print(txt.format(target))\n",
        "  # for i in range(10):\n",
        "  while(abs(q1_minus-q1_plus)>=target and iter<=500 :\n",
        "      txt=\"iter number :{:<4}|Discontinuity is  : {:.5f}|Energy is : {:.5f}\"\n",
        "      print(txt.format(iter,abs(q1_minus-q1_plus),E))\n",
        "      iter+=1\n",
        "      Empty(p,q,P,Q,y,f,V,ak,bk,P_1,Q_1,y_,f_)\n",
        "      a_c= CTPnew(E,l,Z)\n",
        "      q1_minus=f_final[a_c]\n",
        "      q1_plus=f_final[a_c+1]\n",
        "      p1=y_final[a_c]\n",
        "      P1_squared=[]\n",
        "      for i in range(500):\n",
        "        P1_squared.append(y_final[i]**2)\n",
        "      Integral=NormalizationConstant(P1_squared,3,c_,d_,499,h)\n",
        "      E2=Ed+((q1_minus-q1_plus))*p1/(2*Integral)\n",
        "      if(E2>Eu or E2<El):\n",
        "        if(E2>Eu):\n",
        "          E=(Ed+Eu)/2\n",
        "          OutwardIntegration(f,y,p,q,P,Q,n,k,l,Z,E,m,mij)\n",
        "          InwardIntegration(f_,y_,P_1,Q_1,n,k,l,Z,E,L,ak,bk)\n",
        "          scale_factor = scaling_factor(y,y_)\n",
        "          y_ = list(scale_factor * np.array(y_))\n",
        "          f_ = list(scale_factor * np.array(f_))\n",
        "          y_final=Combinesoln(y,y_,V,E,0)\n",
        "          f_final=Combinesoln(y,y_,V,E,1)\n",
        "          break\n",
        "        else:\n",
        "          E=(Ed+El)/2\n",
        "          OutwardIntegration(f,y,p,q,P,Q,n,k,l,Z,E,m,mij)\n",
        "          InwardIntegration(f_,y_,P_1,Q_1,n,k,l,Z,E,L,ak,bk)\n",
        "          scale_factor = scaling_factor(y,y_)\n",
        "          y_ = list(scale_factor * np.array(y_))\n",
        "          f_ = list(scale_factor * np.array(f_))\n",
        "          y_final=Combinesoln(y,y_,V,E,0)\n",
        "          f_final=Combinesoln(y,np.array(y_),V,E,1)\n",
        "          break\n",
        "      else:\n",
        "        Ed=E2\n",
        "        E=E2\n",
        "        OutwardIntegration(f,y,p,q,P,Q,n,k,l,Z,E,m,mij)\n",
        "        InwardIntegration(f_,y_,P_1,Q_1,n,k,l,Z,E,L,ak,bk)\n",
        "        scale_factor = scaling_factor(y,y_)\n",
        "        y_ = list(scale_factor * np.array(y_))\n",
        "        f_ = list(scale_factor * np.array(f_))\n",
        "        y_final=Combinesoln(y,y_,V,E,0)\n",
        "        f_final=Combinesoln(y,np.array(y_),V,E,1)\n",
        "  print(\"Final energy is : \",E)\n",
        "  return [y_final,f_final,E]"
      ]
    },
    {
      "cell_type": "code",
      "execution_count": null,
      "metadata": {
        "id": "to3KA79qFs_m"
      },
      "outputs": [],
      "source": [
        "#Outward Integration lists-----------------------------\n",
        "p=[]\n",
        "q=[]\n",
        "P=[]\n",
        "Q=[]\n",
        "y=[]\n",
        "f=[]\n",
        "V=[]\n",
        "#------------------------------------------------------\n",
        "#Inward Integration lists------------------------------\n",
        "ak=[]\n",
        "bk=[]\n",
        "P_1=[]\n",
        "Q_1=[]\n",
        "y_=[]\n",
        "f_=[]\n",
        "#------------------------------------------------------"
      ]
    },
    {
      "cell_type": "code",
      "source": [
        "#Plotting Range\n",
        "start=0\n",
        "stop=400\n",
        "assert stop<=500"
      ],
      "metadata": {
        "id": "iKvsIo5M-kFt"
      },
      "execution_count": null,
      "outputs": []
    },
    {
      "cell_type": "code",
      "source": [
        "#Node Correction Computation\n",
        "Values=NodeCorrection(f,y,500,N,l,k,E,V,Z,a,p,q,P,Q,m,mij,f_,y_,P_1,Q_1,ak,bk)\n",
        "y=Values[0].copy()\n",
        "y_=Values[1].copy()\n",
        "f=Values[2].copy()\n",
        "f_=Values[3].copy()\n",
        "E=Values[4]\n",
        "ync=Combinesoln(y,y_,V,E,0)\n",
        "fnc=Combinesoln(y,y_,V,E,1)"
      ],
      "metadata": {
        "id": "XYEztoBeZESf",
        "colab": {
          "base_uri": "https://localhost:8080/",
          "height": 840
        },
        "outputId": "ee75f90f-e438-457c-9d37-382ba70dd05d"
      },
      "execution_count": null,
      "outputs": [
        {
          "output_type": "display_data",
          "data": {
            "text/plain": [
              "<Figure size 432x288 with 1 Axes>"
            ],
            "image/png": "[encoded data removed]"
          },
          "metadata": {
            "needs_background": "light"
          }
        },
        {
          "output_type": "display_data",
          "data": {
            "text/plain": [
              "<Figure size 432x288 with 1 Axes>"
            ],
            "image/png": "[encoded data removed]"
          },
          "metadata": {
            "needs_background": "light"
          }
        },
        {
          "output_type": "stream",
          "name": "stdout",
          "text": [
            "Number of nodes initially is :  2\n",
            "iter number :0   |Energy is : -10.00000|Nodes: 2\n",
            "iter number :1   |Energy is : -11.00000|Nodes: 2\n",
            "iter number :2   |Energy is : -12.10000|Nodes: 2\n",
            "iter number :3   |Energy is : -13.31000|Nodes: 1\n",
            "iter number :4   |Energy is : -14.64100|Nodes: 1\n",
            "iter number :5   |Energy is : -16.10510|Nodes: 1\n",
            "iter number :6   |Energy is : -17.71561|Nodes: 1\n",
            "iter number :7   |Energy is : -19.48717|Nodes: 1\n",
            "iter number :8   |Energy is : -21.43589|Nodes: 1\n",
            "iter number :9   |Energy is : -23.57948|Nodes: 1\n",
            "iter number :10  |Energy is : -25.93742|Nodes: 1\n",
            "iter number :11  |Energy is : -28.53117|Nodes: 1\n",
            "iter number :12  |Energy is : -31.38428|Nodes: 1\n",
            "iter number :13  |Energy is : -34.52271|Nodes: 1\n",
            "iter number :14  |Energy is : -37.97498|Nodes: 1\n",
            "iter number :15  |Energy is : -41.77248|Nodes: 1\n"
          ]
        }
      ]
    },
    {
      "cell_type": "code",
      "source": [
        "plt.plot(r[start:stop],ync[start:stop])\n",
        "plt.title('P after node correction')\n",
        "plt.show()"
      ],
      "metadata": {
        "id": "hZXi8VHJU5c_",
        "colab": {
          "base_uri": "https://localhost:8080/",
          "height": 281
        },
        "outputId": "c33c8667-2028-44b7-8a59-91d04219fa7f"
      },
      "execution_count": null,
      "outputs": [
        {
          "output_type": "display_data",
          "data": {
            "text/plain": [
              "<Figure size 432x288 with 1 Axes>"
            ],
            "image/png": "[encoded data removed]"
          },
          "metadata": {
            "needs_background": "light"
          }
        }
      ]
    },
    {
      "cell_type": "code",
      "source": [
        "plt.plot(r[start:stop],fnc[start:stop])\n",
        "plt.title('Q after node correction')\n",
        "plt.show()"
      ],
      "metadata": {
        "id": "TNaUQcnoU-8Y",
        "colab": {
          "base_uri": "https://localhost:8080/",
          "height": 281
        },
        "outputId": "bb7f50f7-db48-42c3-bc39-5b26b4d4426e"
      },
      "execution_count": null,
      "outputs": [
        {
          "output_type": "display_data",
          "data": {
            "text/plain": [
              "<Figure size 432x288 with 1 Axes>"
            ],
            "image/png": "[encoded data removed]"
          },
          "metadata": {
            "needs_background": "light"
          }
        }
      ]
    },
    {
      "cell_type": "code",
      "execution_count": null,
      "metadata": {
        "id": "LSNFysX533sj",
        "colab": {
          "base_uri": "https://localhost:8080/"
        },
        "outputId": "16b58ba0-43c3-4bcb-f923-a32169964d82"
      },
      "outputs": [
        {
          "output_type": "stream",
          "name": "stdout",
          "text": [
            "Upper limit for energy is : -45.949729863572216\n",
            "Lower limit for energy is : -1000\n",
            "Target Discontinuity is : 0.00125\n",
            "Final energy is :  -45.949729863572216\n"
          ]
        }
      ],
      "source": [
        "#Derivative Correction Computation\n",
        "Values1=DerivativeCorrection(f,y,500,N,l,k,E,V,L,Z,a,p,q,P,Q,m,mij,f_,y_,P_1,Q_1,ak,bk)\n",
        "fdc=Values1[1].copy()\n",
        "ydc=Values1[0].copy()\n",
        "E=Values1[2]\n",
        "#Normalizing the Final Wavefunction---------------------\n",
        "Norma=NormalizationConstant(ydc,3,c_,d_,499,h)\n",
        "for i in range(500):\n",
        "  ydc[i]/=Norma\n",
        "  fdc[i]/=Norma"
      ]
    },
    {
      "cell_type": "code",
      "execution_count": null,
      "metadata": {
        "id": "jM2zQCQPJUiq",
        "colab": {
          "base_uri": "https://localhost:8080/",
          "height": 281
        },
        "outputId": "2469255f-7299-4382-8dc3-e05ffe8f8a35"
      },
      "outputs": [
        {
          "output_type": "display_data",
          "data": {
            "text/plain": [
              "<Figure size 432x288 with 1 Axes>"
            ],
            "image/png": "[encoded data removed]"
          },
          "metadata": {
            "needs_background": "light"
          }
        }
      ],
      "source": [
        "plt.plot(r[start:stop],ydc[start:stop])\n",
        "plt.title('P after derivative correction')\n",
        "plt.show()"
      ]
    },
    {
      "cell_type": "code",
      "source": [
        "plt.plot(r[start:stop],fdc[start:stop])\n",
        "plt.title('Q after derivative correction')\n",
        "plt.show()"
      ],
      "metadata": {
        "id": "p4Qb4OiSYOMI",
        "colab": {
          "base_uri": "https://localhost:8080/",
          "height": 281
        },
        "outputId": "c0d72fc6-ff33-4d59-f12c-30235889113d"
      },
      "execution_count": null,
      "outputs": [
        {
          "output_type": "display_data",
          "data": {
            "text/plain": [
              "<Figure size 432x288 with 1 Axes>"
            ],
            "image/png": "[encoded data removed]"
          },
          "metadata": {
            "needs_background": "light"
          }
        }
      ]
    },
    {
      "cell_type": "code",
      "source": [
        "#Percentage error in energy values predicted for couloumb potential\n",
        "E_actual=-(Z**2)/(2*N**2)\n",
        "error_percentage=abs(((E-E_actual)*100/E_actual))\n",
        "align=80\n",
        "print(\"Actual energy with coulumb potential is :{}\".format(E_actual))\n",
        "print(\"Predicted energy :{}\".format(E))\n",
        "print(\"Perecentage error obtained in energy prediction is :{}\".format(error_percentage))"
      ],
      "metadata": {
        "id": "8vxb_EzoW-0d",
        "colab": {
          "base_uri": "https://localhost:8080/"
        },
        "outputId": "4e276d32-666c-49a2-b7e9-6855035ddd33"
      },
      "execution_count": null,
      "outputs": [
        {
          "output_type": "stream",
          "name": "stdout",
          "text": [
            "Actual energy with coulumb potential is :-60.5\n",
            "Predicted energy :-45.949729863572216\n",
            "Perecentage error obtained in energy prediction is :24.05003328335171\n"
          ]
        }
      ]
    },
    {
      "cell_type": "code",
      "source": [
        "#Check if the function is normalized\n",
        "Norma=NormalizationConstant(ydc,3,c_,d_,499,h)\n",
        "if(Norma>=0.99 and Norma<=1.1):\n",
        "  print(\"Function is normalised\")\n",
        "else:\n",
        "  print(\"Function is not normalised\")\n",
        "print(\"Current Normalising factor is : \",Norma)"
      ],
      "metadata": {
        "id": "w3YeFyIvogTH",
        "colab": {
          "base_uri": "https://localhost:8080/"
        },
        "outputId": "a130b133-505c-46ff-84ee-a892e430771e"
      },
      "execution_count": null,
      "outputs": [
        {
          "output_type": "stream",
          "name": "stdout",
          "text": [
            "Function is normalised\n",
            "Current Normalising factor is :  1.0000000000000007\n"
          ]
        }
      ]
    },
    {
      "cell_type": "code",
      "source": [
        "# def MasterSolution(f,y,n,N,l,k,E,V,L,Z,a,p,q,P,Q,m,mij,f_,y_,P_1,Q_1,ak,bk):\n",
        "#   Empty(p,q,P,Q,y,f,V,ak,bk,P_1,Q_1,y_,f_)\n",
        "#   Values=NodeCorrection(f,y,500,N,l,k,E,V,Z,a,p,q,P,Q,m,mij,f_,y_,P_1,Q_1,ak,bk)\n",
        "#   y=Values[0].copy()\n",
        "#   y_=Values[1].copy()\n",
        "#   f=Values[2].copy()\n",
        "#   f_=Values[3].copy()\n",
        "#   E=Values[4]\n",
        "#   ync=Combinesoln(y,y_,V,E,0)\n",
        "#   fnc=Combinesoln(y,y_,V,E,1)\n",
        "#   Values1=DerivativeCorrection(f,y,500,N,l,k,E,V,L,Z,a,p,q,P,Q,m,mij,f_,y_,P_1,Q_1,ak,bk)\n",
        "#   fdc=Values1[1].copy()\n",
        "#   ydc=Values1[0].copy()\n",
        "#   E=Values1[2]\n",
        "#   Norma=NormalizationConstant(ydc,3,c_,d_,499,h)\n",
        "#   for i in range(500):\n",
        "#     ydc[i]/=Norma\n",
        "#     fdc[i]/=Norma\n",
        "#   return [ydc,fnc,E]"
      ],
      "metadata": {
        "id": "Zq3DkRHZJ9Hy"
      },
      "execution_count": null,
      "outputs": []
    },
    {
      "cell_type": "code",
      "source": [
        "# N=2\n",
        "# E1=-10\n",
        "# solns={}\n",
        "# for i in range(1,N+1):\n",
        "#   for j in range(0,i):\n",
        "#     print(\"----------------------------------------------------------------------------------------------------------------------------------------------------------------------\")\n",
        "#     E1=-10\n",
        "#     key=(i,j)\n",
        "#     val=MasterSolution(f,y,500,i,j,k,E1,V,L,Z,a,p,q,P,Q,m,mij,f_,y_,P_1,Q_1,ak,bk)\n",
        "#     solns[key]=[]\n",
        "#     solns[key].append(val[0])\n",
        "#     solns[key].append(val[1])\n",
        "#     solns[key].append(val[2])"
      ],
      "metadata": {
        "id": "sqW30qfjs7Nw"
      },
      "execution_count": null,
      "outputs": []
    }
  ],
  "metadata": {
    "colab": {
      "collapsed_sections": [],
      "provenance": []
    },
    "kernelspec": {
      "display_name": "Python 3",
      "name": "python3"
    },
    "language_info": {
      "name": "python"
    }
  },
  "nbformat": 4,
  "nbformat_minor": 0
}
